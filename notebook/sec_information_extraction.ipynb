{
 "cells": [
  {
   "cell_type": "code",
   "execution_count": 2,
   "metadata": {},
   "outputs": [],
   "source": [
    "from langchain.chat_models import AzureChatOpenAI\n",
    "from langchain.chains import create_extraction_chain\n",
    "import os\n",
    "import sys\n",
    "from dotenv import load_dotenv\n",
    "import openai\n",
    "\n",
    "load_dotenv()\n",
    "\n",
    "openai.api_key = \"5d050ffec2b94f5eb43c54c80149561e\"#os.environ[\"OPENAI_API_KEY\"]\n",
    "openai.api_base = \"https://futu-002-caeast-001.openai.azure.com/\"#os.environ[\"OPENAI_API_BASE\"]\n",
    "openai.api_type = \"azure\"\n",
    "openai.api_version = \"2023-05-15\"\n",
    "# chat_deployment = os.environ[\"OPENAI_CHAT_DEPLOYMENT\"]\n",
    "# OPENAI_EMBEDDING_DEPLOYMENT = os.environ[\"OPENAI_EMBEDDING_DEPLOYMENT\"]"
   ]
  },
  {
   "cell_type": "code",
   "execution_count": 3,
   "metadata": {},
   "outputs": [],
   "source": [
    "import fitz"
   ]
  },
  {
   "cell_type": "code",
   "execution_count": 6,
   "metadata": {},
   "outputs": [],
   "source": [
    "# project_dir = \"/Users/jarvixwang/Documents/Project/gpt-researcher\"\n",
    "doc = fitz.open('../data/TSLA_Stock_Announcement_1.pdf')#os.path.join(project_dir, 'data/TSLA_Stock_Announcement_1.pdf'))\n",
    "\n",
    "text = \"\"\n",
    "for page in doc:\n",
    "    text += \"\\n\"+page.get_text()\n",
    "\n"
   ]
  },
  {
   "cell_type": "code",
   "execution_count": 9,
   "metadata": {},
   "outputs": [],
   "source": [
    "# print(text)"
   ]
  },
  {
   "cell_type": "code",
   "execution_count": 10,
   "metadata": {},
   "outputs": [],
   "source": [
    "# schema在后面代码中没用\n",
    "schema = {\n",
    "    \"properties\": {\n",
    "        \"action_status\": {\"type\": \"string\"},\n",
    "        \"action_time\": {\"type\": \"integer\"},\n",
    "        \"action_entity\": {\"type\": \"string\"},\n",
    "        \"action\": {\"type\": \"string\"},\n",
    "        \"nature_of_stocks\": {\"type\": \"string\"},\n",
    "        \"number_of_stocks\": {\"type\": \"double\"},\n",
    "        \"transaction_price\": {\"type\": \"double\"},\n",
    "        \"total_value\": {\"type\": \"double\"},\n",
    "        \"stocks_left_after_action\": {\"type\": \"double\"},\n",
    "    },\n",
    "    \"required\": [\"action_status\", \"action_time\", \"action_entity\", \"action\", \"nature_of_stocks\", \"number_of_stocks\", \"transaction_price\", \"total_value\", \"stocks_left_after_action\"],\n",
    "}"
   ]
  },
  {
   "cell_type": "code",
   "execution_count": 20,
   "metadata": {},
   "outputs": [],
   "source": [
    "from typing import Sequence, Optional\n",
    "from langchain.prompts import (\n",
    "    PromptTemplate,\n",
    "    ChatPromptTemplate,\n",
    "    HumanMessagePromptTemplate,\n",
    ")\n",
    "from enum import Enum\n",
    "from langchain.llms import OpenAI\n",
    "from pydantic import BaseModel, Field, validator\n",
    "from langchain.output_parsers import PydanticOutputParser\n",
    "\n",
    "class StockOptions(Enum):\n",
    "    \"\"\"交易的股票类型\"\"\"\n",
    "    rsu='Restricted Stock Unit'\n",
    "    eso='Employee Stock Option'\n",
    "    nso='Non-Qualified Stock Option'\n",
    "    iso='Incentive Stock Option'\n",
    "    psu='Performance Stock Unit'\n",
    "    espp='Employee Stock Purchase Plan'\n",
    "    dsu='Deferred Stock Unit'\n",
    "    sars='Stock Appreciation Right'\n",
    "    phantom='Phantom Stock'\n",
    "\n",
    "\n",
    "class StockTransaction(BaseModel):\n",
    "    \"\"\"股票交易类公告需要提取的字段\"\"\"\n",
    "    issuer_name: str\n",
    "    transaction_status: str\n",
    "    transaction_date: str\n",
    "    transaction_entity: str\n",
    "    transaction_entity_relationship_to_issuer: str\n",
    "    buy_or_sell: str\n",
    "    stock_options: Sequence[StockOptions]\n",
    "    number_of_stocks_in_transaction: float\n",
    "    transaction_unit_price: float\n",
    "    transaction_total_value: float\n",
    "    stocks_left_after_transaction: float\n",
    "    transaction_currency: str\n",
    "    "
   ]
  },
  {
   "cell_type": "code",
   "execution_count": 21,
   "metadata": {},
   "outputs": [],
   "source": [
    "parser = PydanticOutputParser(pydantic_object=StockTransaction)\n",
    "prompt = PromptTemplate(\n",
    "    template=\"Answer the user query.\\n{format_instructions}\\n{query}\\n\",\n",
    "    input_variables=[\"query\"],\n",
    "    partial_variables={\"format_instructions\": parser.get_format_instructions()},\n",
    ")\n"
   ]
  },
  {
   "cell_type": "code",
   "execution_count": 22,
   "metadata": {},
   "outputs": [],
   "source": [
    "llm = AzureChatOpenAI(\n",
    "            temperature=0.0,\n",
    "            deployment_name='gpt-4',\n",
    "            openai_api_key=openai.api_key,\n",
    "            openai_api_base=openai.api_base,\n",
    "            openai_api_type=\"azure\",\n",
    "            openai_api_version=\"2023-05-15\",\n",
    "        )\n",
    "\n",
    "_input = prompt.format_prompt(query=text)\n",
    "output = llm.predict(_input.to_string())\n",
    "stock_transaction = parser.parse(output)"
   ]
  },
  {
   "cell_type": "code",
   "execution_count": 16,
   "metadata": {},
   "outputs": [],
   "source": [
    "from IPython.display import display, JSON"
   ]
  },
  {
   "cell_type": "code",
   "execution_count": 23,
   "metadata": {},
   "outputs": [
    {
     "name": "stderr",
     "output_type": "stream",
     "text": [
      "/var/folders/t0/wrmv7mvs6n9dwrlrnx0hp18c0000gn/T/ipykernel_84880/3711024533.py:1: PydanticDeprecatedSince20: The `json` method is deprecated; use `model_dump_json` instead. Deprecated in Pydantic V2.0 to be removed in V3.0. See Pydantic V2 Migration Guide at https://errors.pydantic.dev/2.4/migration/\n",
      "  display(JSON(stock_transaction.json()))\n",
      "/Users/jarvixwang/miniconda3/envs/gpt-researcher/lib/python3.11/site-packages/IPython/core/display.py:618: UserWarning: JSON expects JSONable dict or list, not JSON strings\n",
      "  warnings.warn(\"JSON expects JSONable dict or list, not JSON strings\")\n"
     ]
    },
    {
     "data": {
      "application/json": {
       "buy_or_sell": "Sell",
       "issuer_name": "Tesla, Inc.",
       "number_of_stocks_in_transaction": 3752,
       "stock_options": [
        "Restricted Stock Unit"
       ],
       "stocks_left_after_transaction": 3173994,
       "transaction_currency": "USD",
       "transaction_date": "09/05/2023",
       "transaction_entity": "ZACHARY KIRKHORN",
       "transaction_entity_relationship_to_issuer": "Officer",
       "transaction_status": "LIVE",
       "transaction_total_value": 919240,
       "transaction_unit_price": 244.8
      },
      "text/plain": [
       "<IPython.core.display.JSON object>"
      ]
     },
     "metadata": {
      "application/json": {
       "expanded": false,
       "root": "root"
      }
     },
     "output_type": "display_data"
    }
   ],
   "source": [
    "display(JSON(stock_transaction.json()))"
   ]
  },
  {
   "cell_type": "code",
   "execution_count": 31,
   "metadata": {},
   "outputs": [
    {
     "name": "stdout",
     "output_type": "stream",
     "text": [
      "{\n",
      "    \"issuer_name\": \"Tesla, Inc.\",\n",
      "    \"transaction_status\": \"LIVE\",\n",
      "    \"transaction_date\": \"09/05/2023\",\n",
      "    \"transaction_entity\": \"ZACHARY KIRKHORN\",\n",
      "    \"transaction_entity_relationship_to_issuer\": \"Officer\",\n",
      "    \"buy_or_sell\": \"Sell\",\n",
      "    \"stock_options\": [\n",
      "        \"Restricted Stock Unit\"\n",
      "    ],\n",
      "    \"number_of_stocks_in_transaction\": 3752.0,\n",
      "    \"transaction_unit_price\": 244.8,\n",
      "    \"transaction_total_value\": 919240.0,\n",
      "    \"stocks_left_after_transaction\": 3173994.0,\n",
      "    \"transaction_currency\": \"USD\"\n",
      "}\n"
     ]
    },
    {
     "name": "stderr",
     "output_type": "stream",
     "text": [
      "/var/folders/t0/wrmv7mvs6n9dwrlrnx0hp18c0000gn/T/ipykernel_84880/1793570594.py:4: PydanticDeprecatedSince20: The `json` method is deprecated; use `model_dump_json` instead. Deprecated in Pydantic V2.0 to be removed in V3.0. See Pydantic V2 Migration Guide at https://errors.pydantic.dev/2.4/migration/\n",
      "  a  = json.dumps(json.loads(stock_transaction.json()), indent=4)\n"
     ]
    }
   ],
   "source": [
    "# JSON(stock_transaction.json(),expanded=True)\n",
    "import json\n",
    "# json.dumps()\n",
    "a  = json.dumps(json.loads(stock_transaction.json()), indent=4)\n",
    "# print(type(a))\n",
    "print(a)\n",
    "# print(stock_transaction.json())"
   ]
  },
  {
   "cell_type": "code",
   "execution_count": null,
   "metadata": {},
   "outputs": [],
   "source": []
  }
 ],
 "metadata": {
  "kernelspec": {
   "display_name": ".venv",
   "language": "python",
   "name": "python3"
  },
  "language_info": {
   "codemirror_mode": {
    "name": "ipython",
    "version": 3
   },
   "file_extension": ".py",
   "mimetype": "text/x-python",
   "name": "python",
   "nbconvert_exporter": "python",
   "pygments_lexer": "ipython3",
   "version": "3.11.5"
  }
 },
 "nbformat": 4,
 "nbformat_minor": 2
}
