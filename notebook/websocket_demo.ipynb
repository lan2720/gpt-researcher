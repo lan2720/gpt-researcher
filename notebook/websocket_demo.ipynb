{
 "cells": [
  {
   "cell_type": "code",
   "execution_count": 19,
   "metadata": {},
   "outputs": [
    {
     "name": "stdout",
     "output_type": "stream",
     "text": [
      "/Users/jarvixwang/Documents/Project/gpt-researcher\n"
     ]
    }
   ],
   "source": [
    "import asyncio\n",
    "from concurrent.futures import ThreadPoolExecutor\n",
    "from fastapi import WebSocket\n",
    "from pathlib import Path\n",
    "from selenium.webdriver.remote.webdriver import WebDriver\n",
    "# executor = ThreadPoolExecutor()\n",
    "FILE_DIR = Path().absolute().parent#.absolute()\n",
    "print(FILE_DIR)\n",
    "# current_dir.parent\n",
    "# FILE_DIR = \n",
    "# print(FILE_DIR)"
   ]
  },
  {
   "cell_type": "code",
   "execution_count": 20,
   "metadata": {},
   "outputs": [],
   "source": [
    "def add_header(driver: WebDriver) -> None:\n",
    "    \"\"\"Add a header to the website\n",
    "\n",
    "    Args:\n",
    "        driver (WebDriver): The webdriver to use to add the header\n",
    "\n",
    "    Returns:\n",
    "        None\n",
    "    \"\"\"\n",
    "    driver.execute_script(open(f\"{FILE_DIR}/js/overlay.js\", \"r\").read())"
   ]
  },
  {
   "cell_type": "markdown",
   "metadata": {},
   "source": [
    "## 以下代码[async_broswe(url, question, websocket)](https://github.com/lan2720/gpt-researcher/blob/5c55192c05fe834a0c52ffcf585446373bc2e3bb/actions/web_scrape.py#L36)\n",
    "- websocket来自fastapi: `from fastapi import WebSocket`, WebSocket是双向通信的\n",
    "    ```\n",
    "    from fastapi import WebSocket\n",
    "    @app.websocket(\"/ws\")\n",
    "    async def websocket_endpoint(websocket: WebSocket):\n",
    "    await websocket.accept()\n",
    "    while True:\n",
    "        data = await websocket.receive_text()\n",
    "        await websocket.send_text(f\"Message text was: {data}\")\n",
    "    ```\n",
    "- websocket: WebSocketManager来管理websocket"
   ]
  },
  {
   "cell_type": "code",
   "execution_count": null,
   "metadata": {},
   "outputs": [],
   "source": [
    "loop = asyncio.get_event_loop()\n",
    "executor = ThreadPoolExecutor(max_workers=8)\n",
    "\n",
    "print(f\"Scraping url {url} with question {question}\")\n",
    "await websocket.send_json(\n",
    "    {\"type\": \"logs\", \"output\": f\"🔎 Browsing the {url} for relevant about: {question}...\"})\n",
    "\n",
    "\n",
    "driver, text = await loop.run_in_executor(executor, scrape_text_with_selenium, url)\n",
    "await loop.run_in_executor(executor, add_header, driver)\n",
    "summary_text = await loop.run_in_executor(executor, summary.summarize_text, url, text, question, driver)"
   ]
  }
 ],
 "metadata": {
  "kernelspec": {
   "display_name": "gpt-researcher",
   "language": "python",
   "name": "python3"
  },
  "language_info": {
   "codemirror_mode": {
    "name": "ipython",
    "version": 3
   },
   "file_extension": ".py",
   "mimetype": "text/x-python",
   "name": "python",
   "nbconvert_exporter": "python",
   "pygments_lexer": "ipython3",
   "version": "3.11.5"
  }
 },
 "nbformat": 4,
 "nbformat_minor": 2
}
