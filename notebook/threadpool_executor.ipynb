{
 "cells": [
  {
   "cell_type": "markdown",
   "metadata": {},
   "source": [
    "### [将普通函数放入线程池执行await](https://github.com/lan2720/gpt-researcher/blob/5c55192c05fe834a0c52ffcf585446373bc2e3bb/actions/web_scrape.py#L57)\n",
    "- async_browse函数内创建了8线程池\n",
    "    - 将`scrape_text_with_selenium(url)`加入线程池\n",
    "    - 将`add_header(driver)`加入线程池\n",
    "    - 将`summary.summarize_text(url, text, question, driver)`加入线程池\n",
    "    - 以上三个函数都是普通函数，不是async修饰的异步函数\n"
   ]
  },
  {
   "cell_type": "code",
   "execution_count": 1,
   "metadata": {},
   "outputs": [
    {
     "name": "stdout",
     "output_type": "stream",
     "text": [
      "selenium_web_browser: firefox\n"
     ]
    }
   ],
   "source": [
    "import sys\n",
    "sys.path.append(\"/Users/jarvixwang/Documents/Project/gpt-researcher/\")\n",
    "\n",
    "import asyncio\n",
    "from concurrent.futures import ThreadPoolExecutor\n",
    "from actions.web_scrape import scrape_text_with_selenium, add_header\n",
    "import processing.text as summary\n",
    "from config import Config\n",
    "CFG = Config()"
   ]
  },
  {
   "cell_type": "code",
   "execution_count": 5,
   "metadata": {},
   "outputs": [
    {
     "name": "stdout",
     "output_type": "stream",
     "text": [
      "Scraping url https://cn.nytimes.com/world/20231016/hamas-israel-mood-distrust/ with question please extract all related information about Israeli-Palestinian conflict. If not, find any possible relationship between the question and the given text.\n",
      "当前选择的浏览器是: firefox\n",
      "CFG.selenium_web_browser:  firefox\n",
      "****************创建了firefox的driver\n",
      "scraping url https://cn.nytimes.com/world/20231016/hamas-israel-mood-distrust/...\n",
      "Summarizing url: https://cn.nytimes.com/world/20231016/hamas-israel-mood-distrust/ with total chunks: 1\n",
      "Final summary length:  752\n",
      "combined_summary: The text does not provide specific details about the Israeli-Palestinian conflict. However, it mentions that Isabel Kershner, a New York Times correspondent based in Jerusalem, has been reporting on Israeli and Palestinian politics since 1990. Her latest book is titled \"The Land of Hope and Fear: Israel’s Battle for its Inner Soul\". The text also refers to several articles related to Israel, including one about why Israeli security forces could not stop Hamas, another about an Israeli village attacked by Hamas, and a third discussing the \"eternal dilemma\" of Israel with Hamas attacks. There is also a mention of a plea for help from the mother of a kidnapped mixed-race girl. The dates of these articles range from October 9 to October 13, 2023.\n",
      "final_summary: The text does not provide specific details about the Israeli-Palestinian conflict. However, it mentions that Isabel Kershner, a New York Times correspondent based in Jerusalem, has been reporting on Israeli and Palestinian politics since 1990. She has written a book titled \"The Land of Hope and Fear: Israel’s Battle for its Inner Soul\". The text also refers to several articles related to Israel, including one about why Israeli security forces could not stop Hamas, another about an Israeli village attacked by Hamas, and a third discussing the \"eternal dilemma\" of Israel with Hamas attacks. There is also a mention of a plea for help from the mother of a kidnapped mixed-race girl. The dates of these articles range from October 9 to October 13, 2023.\n"
     ]
    }
   ],
   "source": [
    "loop = asyncio.get_event_loop()\n",
    "# 定义了8线程的线程池\n",
    "executor = ThreadPoolExecutor(max_workers=8)\n",
    "\n",
    "url = \"https://cn.nytimes.com/world/20231016/hamas-israel-mood-distrust/\"\n",
    "# url = \"https://en.wikipedia.org/wiki/Large_language_model\"\n",
    "question = \"please extract all related information about Israeli-Palestinian conflict. If not, find any possible relationship between the question and the given text.\"#\"目前巴以冲突战况如何\"\n",
    "\n",
    "print(f\"Scraping url {url} with question {question}\")\n",
    "# scrape_text_with_selenium(url)\n",
    "# 它会将 func(*args) 函数添加到线程池(executor)中，并返回一个协程对象。\n",
    "# 协程对象可以使用 await 关键字等待函数执行完成，并返回函数的结果（driver, text）\n",
    "driver, text = await loop.run_in_executor(executor, scrape_text_with_selenium, url)\n",
    "# 将add_header(driver)加入线程池: add_header(driver)是对正在分析的网页加一个遮罩层\n",
    "await loop.run_in_executor(executor, add_header, driver)\n",
    "# 将summary.summarize_text(url, text, question, driver)加入到线程池, 等待处理\n",
    "summary_text = await loop.run_in_executor(executor, summary.summarize_text, url, text, question, driver, CFG.smart_llm_model)"
   ]
  },
  {
   "cell_type": "code",
   "execution_count": 7,
   "metadata": {},
   "outputs": [
    {
     "data": {
      "text/plain": [
       "'The text does not provide specific information about the current situation of the Israeli-Palestinian conflict.'"
      ]
     },
     "execution_count": 7,
     "metadata": {},
     "output_type": "execute_result"
    }
   ],
   "source": [
    "summary_text"
   ]
  },
  {
   "cell_type": "markdown",
   "metadata": {},
   "source": []
  }
 ],
 "metadata": {
  "kernelspec": {
   "display_name": "gpt-researcher",
   "language": "python",
   "name": "python3"
  },
  "language_info": {
   "codemirror_mode": {
    "name": "ipython",
    "version": 3
   },
   "file_extension": ".py",
   "mimetype": "text/x-python",
   "name": "python",
   "nbconvert_exporter": "python",
   "pygments_lexer": "ipython3",
   "version": "3.11.5"
  }
 },
 "nbformat": 4,
 "nbformat_minor": 2
}
