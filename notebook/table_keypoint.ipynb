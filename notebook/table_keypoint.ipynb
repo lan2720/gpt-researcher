{
 "cells": [
  {
   "cell_type": "code",
   "execution_count": 2,
   "metadata": {},
   "outputs": [],
   "source": [
    "from langchain import hub\n",
    "from langchain.chat_models import AzureChatOpenAI\n",
    "from langchain.document_loaders import UnstructuredFileLoader\n",
    "\n",
    "AZURE_ENDPOINT = \"https://futu-002-caeast-001.openai.azure.com/\"\n",
    "AZURE_API_KEY = \"5d050ffec2b94f5eb43c54c80149561e\"\n",
    "AZURE_API_VERSION = \"2023-07-01-preview\"\n",
    "\n",
    "llm =  AzureChatOpenAI(\n",
    "            temperature=0.0,\n",
    "            deployment_name='gpt-4',\n",
    "            openai_api_key=AZURE_API_KEY,\n",
    "            openai_api_base=AZURE_ENDPOINT,\n",
    "            openai_api_type=\"azure\",\n",
    "            openai_api_version=AZURE_API_VERSION,\n",
    "        )"
   ]
  },
  {
   "cell_type": "code",
   "execution_count": 3,
   "metadata": {},
   "outputs": [
    {
     "name": "stdout",
     "output_type": "stream",
     "text": [
      "1. The company's revenues have shown a consistent increase over the three-year period from 2020 to 2022, growing from $182,527 million in 2020 to $282,836 million in 2022.\n",
      "\n",
      "2. Total costs and expenses have also increased each year, from $141,303 million in 2020 to $207,994 million in 2022. The largest contributor to this increase is the cost of revenues, which rose from $84,732 million in 2020 to $126,203 million in 2022.\n",
      "\n",
      "3. Despite the increase in costs and expenses, the company's income from operations has generally improved, peaking at $78,714 million in 2021 before slightly decreasing to $74,842 million in 2022.\n",
      "\n",
      "4. The company's net income experienced a significant increase from $40,269 million in 2020 to $76,033 million in 2021, but then decreased to $59,972 million in 2022.\n",
      "\n",
      "5. The basic net income per share and diluted net income per share both followed a similar trend to the net income, increasing in 2021 and then decreasing in 2022. The diluted net income per share was slightly lower than the basic net income per share in each year.\n"
     ]
    }
   ],
   "source": [
    "input_prompt = hub.pull(\"hwchase17/financial-table-insights\")\n",
    "runnable = input_prompt | llm\n",
    "\n",
    "input_args = {\"table\": \"\"\"\n",
    "CONSOLIDATED STATEMENTS OF INCOME (In millions, except per share amounts)\n",
    "|Year Ended December 31\t\t| 2020\t| 2021\t| 2022\t|\n",
    "|---\t\t\t\t\t\t\t| ---\t\t| ---\t\t| ---\t\t|\n",
    "|Revenues\t\t\t\t\t| $ 182,527| $ 257,637| $ 282,836|\n",
    "|Costs and expenses:|\n",
    "|Cost of revenues\t\t\t\t| 84,732\t| 110,939\t| 126,203|\n",
    "|Research and development\t| 27,573\t| 31,562\t| 39,500|\n",
    "|Sales and marketing\t\t\t| 17,946\t| 22,912\t| 26,567|\n",
    "|General and administrative\t| 11,052\t| 13,510\t| 15,724|\n",
    "|Total costs and expenses\t\t| 141,303| 178,923| 207,994|\n",
    "|Income from operations\t\t| 41,224\t| 78,714\t| 74,842|\n",
    "|Other income (expense), net\t| 6,858\t| 12,020\t| (3,514)|\n",
    "|Income before income taxes\t| 48,082\t| 90,734\t| 71,328|\n",
    "|Provision for income taxes\t| 7,813\t| 14,701\t| 11,356|\n",
    "|Net income\t\t\t\t\t| $40,269| $76,033\t| $59,972|\n",
    "|Basic net income per share of Class A, Class B, and Class C stock\t| $2.96| $5.69| $4.59|\n",
    "|Diluted net income per share of Class A, Class B, and Class C stock| $2.93| $5.61| $4.56|\n",
    "\"\"\"}\n",
    "ai_rsp = runnable.invoke(input_args)\n",
    "rsp_markdown_content = ai_rsp.content\n",
    "print(rsp_markdown_content)"
   ]
  }
 ],
 "metadata": {
  "kernelspec": {
   "display_name": "gpt-researcher",
   "language": "python",
   "name": "python3"
  },
  "language_info": {
   "codemirror_mode": {
    "name": "ipython",
    "version": 3
   },
   "file_extension": ".py",
   "mimetype": "text/x-python",
   "name": "python",
   "nbconvert_exporter": "python",
   "pygments_lexer": "ipython3",
   "version": "3.11.5"
  }
 },
 "nbformat": 4,
 "nbformat_minor": 2
}
