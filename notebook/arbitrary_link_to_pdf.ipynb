{
 "cells": [
  {
   "cell_type": "code",
   "execution_count": 2,
   "metadata": {},
   "outputs": [
    {
     "name": "stdout",
     "output_type": "stream",
     "text": [
      "Webpage saved as ../raw_data/error_pdf_redownload/primary_doc.xml.pdf\n",
      "Webpage saved as ../raw_data/error_pdf_redownload/primary_doc.xml.pdf\n",
      "Webpage saved as ../raw_data/error_pdf_redownload/pdd-20221231xex2d8.htm.pdf\n",
      "Webpage saved as ../raw_data/error_pdf_redownload/pdd-20221231xex4d1.htm.pdf\n",
      "Webpage saved as ../raw_data/error_pdf_redownload/pdd-20221231xex4d2.htm.pdf\n",
      "Webpage saved as ../raw_data/error_pdf_redownload/pdd-20221231xex8d1.htm.pdf\n",
      "Webpage saved as ../raw_data/error_pdf_redownload/pdd-20221231xex12d1.htm.pdf\n",
      "Webpage saved as ../raw_data/error_pdf_redownload/tm2215966d4_irannotice.htm.pdf\n",
      "Webpage saved as ../raw_data/error_pdf_redownload/g419230px14a6g.htm.pdf\n",
      "Webpage saved as ../raw_data/error_pdf_redownload/filename1.htm.pdf\n"
     ]
    }
   ],
   "source": [
    "import pdfkit\n",
    "\n",
    "\n",
    "# Define the URL of the webpage you want to save as a PDF\n",
    "# url = \"https://www.sec.gov/Archives/edgar/data/1737806/000110465923049927/pdd-20221231xex12d1.htm\"\n",
    "file_urls = [\"https://www.sec.gov/Archives/edgar/data/1318605/000195004723003734/xsl144X01/primary_doc.xml\",\n",
    "             \"https://www.sec.gov/Archives/edgar/data/1045810/000195004723003627/xsl144X01/primary_doc.xml\",\n",
    "             \"https://www.sec.gov/Archives/edgar/data/1737806/000110465923049927/pdd-20221231xex2d8.htm\",\n",
    "             \"https://www.sec.gov/Archives/edgar/data/1737806/000110465923049927/pdd-20221231xex4d1.htm\",\n",
    "             \"https://www.sec.gov/Archives/edgar/data/1737806/000110465923049927/pdd-20221231xex4d2.htm\",\n",
    "             \"https://www.sec.gov/Archives/edgar/data/1737806/000110465923049927/pdd-20221231xex8d1.htm\",\n",
    "             \"https://www.sec.gov/Archives/edgar/data/1737806/000110465923049927/pdd-20221231xex12d1.htm\",\n",
    "             \"https://www.sec.gov/Archives/edgar/data/1577552/000110465922082628/tm2215966d4_irannotice.htm\",\n",
    "             \"https://www.sec.gov/Archives/edgar/data/1318605/000121465923005618/g419230px14a6g.htm\",\n",
    "             \"https://www.sec.gov/Archives/edgar/data/1318605/000119312522016882/filename1.htm\"]\n",
    "\n",
    "# Configure PDFKit options (you may adjust these as needed)\n",
    "options = {\n",
    "    'page-size': 'Letter',\n",
    "    'margin-top': '0mm',\n",
    "    'margin-right': '0mm',\n",
    "    'margin-bottom': '0mm',\n",
    "    'margin-left': '0mm',\n",
    "    'encoding': \"UTF-8\",\n",
    "    'no-outline': None\n",
    "}\n",
    "\n",
    "# Output PDF file name\n",
    "# output_pdf = \"webpage.pdf\"\n",
    "import os\n",
    "for url in file_urls:\n",
    "    output_dir = \"../raw_data/error_pdf_redownload\"\n",
    "    os.makedirs(output_dir, exist_ok=True)\n",
    "    filename = url.split(\"/\")[-1]\n",
    "    try:\n",
    "        output_pdf = os.path.join(output_dir, f\"{filename}.pdf\")\n",
    "        pdfkit.from_url(url, output_pdf, options=options)\n",
    "        print(f\"Webpage saved as {output_pdf}\")\n",
    "    except Exception as e:\n",
    "        print(f\"An error occurred: {str(e)}\")"
   ]
  }
 ],
 "metadata": {
  "kernelspec": {
   "display_name": "gpt-researcher",
   "language": "python",
   "name": "python3"
  },
  "language_info": {
   "codemirror_mode": {
    "name": "ipython",
    "version": 3
   },
   "file_extension": ".py",
   "mimetype": "text/x-python",
   "name": "python",
   "nbconvert_exporter": "python",
   "pygments_lexer": "ipython3",
   "version": "3.11.5"
  }
 },
 "nbformat": 4,
 "nbformat_minor": 2
}
