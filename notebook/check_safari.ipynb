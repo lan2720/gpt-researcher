{
 "cells": [
  {
   "cell_type": "markdown",
   "metadata": {},
   "source": [
    "- safari的[配置](https://developer.apple.com/documentation/webkit/testing_with_webdriver_in_safari)\n",
    "- Noted: Safari’s executable is located at /usr/bin/safaridriver.\n",
    "- `sudo safaridriver --enable`"
   ]
  },
  {
   "cell_type": "code",
   "execution_count": 5,
   "metadata": {},
   "outputs": [],
   "source": [
    "from selenium.webdriver.common.by import By\n",
    "from selenium import webdriver\n",
    "import time"
   ]
  },
  {
   "cell_type": "code",
   "execution_count": 12,
   "metadata": {},
   "outputs": [],
   "source": [
    "\n",
    "def shown_feature_count(driver):\n",
    "    return len(driver.execute_script(\"return document.querySelectorAll('li.feature:not(.is-hidden)')\"))\n",
    "\n",
    "# driver = webdriver.Safari()\n",
    "# driver.get(\"https://webkit.org/status/\")\n",
    "# time.sleep(2)\n",
    "\n",
    "# search_box = driver.find_element(By.XPATH, \"//input[@type='search']\")\n",
    "# search_box.send_keys(\"CSS\")\n",
    "# value = search_box.get_attribute(\"value\")\n",
    "# assert len(value) > 0\n",
    "# search_box.submit()\n",
    "# time.sleep(2)\n",
    "#         # Count the visible results when filters are applied\n",
    "#         # so one result shows up in at most one filter\n",
    "# feature_count = shown_feature_count(driver)\n",
    "# assert feature_count > 0\n",
    "# driver.quit()"
   ]
  },
  {
   "cell_type": "code",
   "execution_count": 37,
   "metadata": {},
   "outputs": [
    {
     "ename": "TypeError",
     "evalue": "WebDriver.__init__() got an unexpected keyword argument 'proxy'",
     "output_type": "error",
     "traceback": [
      "\u001b[0;31m---------------------------------------------------------------------------\u001b[0m",
      "\u001b[0;31mTypeError\u001b[0m                                 Traceback (most recent call last)",
      "\u001b[1;32m/Users/jarvixwang/Documents/Project/gpt-researcher/notebook/check_safari.ipynb 单元格 4\u001b[0m line \u001b[0;36m1\n\u001b[1;32m     <a href='vscode-notebook-cell:/Users/jarvixwang/Documents/Project/gpt-researcher/notebook/check_safari.ipynb#X12sZmlsZQ%3D%3D?line=11'>12</a>\u001b[0m \u001b[39m# Create the SafariDriver with the proxy object\u001b[39;00m\n\u001b[1;32m     <a href='vscode-notebook-cell:/Users/jarvixwang/Documents/Project/gpt-researcher/notebook/check_safari.ipynb#X12sZmlsZQ%3D%3D?line=12'>13</a>\u001b[0m service \u001b[39m=\u001b[39m Service(executable_path\u001b[39m=\u001b[39m\u001b[39m'\u001b[39m\u001b[39m/usr/bin/safaridriver\u001b[39m\u001b[39m'\u001b[39m)\n\u001b[0;32m---> <a href='vscode-notebook-cell:/Users/jarvixwang/Documents/Project/gpt-researcher/notebook/check_safari.ipynb#X12sZmlsZQ%3D%3D?line=13'>14</a>\u001b[0m driver \u001b[39m=\u001b[39m webdriver\u001b[39m.\u001b[39;49mSafari(service\u001b[39m=\u001b[39;49mservice, proxy\u001b[39m=\u001b[39;49mproxy)\n",
      "\u001b[0;31mTypeError\u001b[0m: WebDriver.__init__() got an unexpected keyword argument 'proxy'"
     ]
    }
   ],
   "source": [
    "import os\n",
    "from selenium.webdriver.common.proxy import Proxy, ProxyType\n",
    "from selenium.webdriver.safari.options import Options\n",
    "from selenium.webdriver.safari.service import Service\n",
    "\n",
    "proxy_address = \"http://127.0.0.1:7890\"\n",
    "# Set the proxy server\n",
    "proxy = Proxy({\n",
    "    'proxyType': ProxyType.MANUAL,\n",
    "    'httpProxy': proxy_address,\n",
    "    'sslProxy': proxy_address\n",
    "})\n",
    "\n",
    "# Create SafariOptions object and set the proxy capability\n",
    "safari_options = Options()\n",
    "safari_options.add_argument('--proxy-server={}'.format(proxy.proxy))\n",
    "\n",
    "# Create the SafariDriver with the SafariOptions object\n",
    "service = Service(executable_path='/usr/bin/safaridriver')\n",
    "driver = webdriver.Safari(service=service, options=safari_options)"
   ]
  },
  {
   "cell_type": "code",
   "execution_count": 35,
   "metadata": {},
   "outputs": [
    {
     "ename": "SessionNotCreatedException",
     "evalue": "Message: Could not create a session: The Safari instance is already paired with another WebDriver session.\n",
     "output_type": "error",
     "traceback": [
      "\u001b[0;31m---------------------------------------------------------------------------\u001b[0m",
      "\u001b[0;31mSessionNotCreatedException\u001b[0m                Traceback (most recent call last)",
      "\u001b[1;32m/Users/jarvixwang/Documents/Project/gpt-researcher/notebook/check_safari.ipynb 单元格 4\u001b[0m line \u001b[0;36m3\n\u001b[1;32m     <a href='vscode-notebook-cell:/Users/jarvixwang/Documents/Project/gpt-researcher/notebook/check_safari.ipynb#W5sZmlsZQ%3D%3D?line=33'>34</a>\u001b[0m options\u001b[39m.\u001b[39madd_argument(\u001b[39m'\u001b[39m\u001b[39m--headless\u001b[39m\u001b[39m'\u001b[39m)\n\u001b[1;32m     <a href='vscode-notebook-cell:/Users/jarvixwang/Documents/Project/gpt-researcher/notebook/check_safari.ipynb#W5sZmlsZQ%3D%3D?line=34'>35</a>\u001b[0m options\u001b[39m.\u001b[39madd_argument(\u001b[39m\"\u001b[39m\u001b[39m--enable-javascript\u001b[39m\u001b[39m\"\u001b[39m)\n\u001b[0;32m---> <a href='vscode-notebook-cell:/Users/jarvixwang/Documents/Project/gpt-researcher/notebook/check_safari.ipynb#W5sZmlsZQ%3D%3D?line=35'>36</a>\u001b[0m driver \u001b[39m=\u001b[39m webdriver\u001b[39m.\u001b[39;49mSafari(options\u001b[39m=\u001b[39;49moptions)\n\u001b[1;32m     <a href='vscode-notebook-cell:/Users/jarvixwang/Documents/Project/gpt-researcher/notebook/check_safari.ipynb#W5sZmlsZQ%3D%3D?line=37'>38</a>\u001b[0m \u001b[39m# 原始代码: https://github.com/assafelovic/gpt-researcher/blob/5c55192c05fe834a0c52ffcf585446373bc2e3bb/actions/web_scrape.py#L121\u001b[39;00m\n\u001b[1;32m     <a href='vscode-notebook-cell:/Users/jarvixwang/Documents/Project/gpt-researcher/notebook/check_safari.ipynb#W5sZmlsZQ%3D%3D?line=38'>39</a>\u001b[0m \u001b[39m# url = \"https://docs.litellm.ai/docs/providers/azure\"\u001b[39;00m\n\u001b[1;32m     <a href='vscode-notebook-cell:/Users/jarvixwang/Documents/Project/gpt-researcher/notebook/check_safari.ipynb#W5sZmlsZQ%3D%3D?line=39'>40</a>\u001b[0m url \u001b[39m=\u001b[39m \u001b[39m\"\u001b[39m\u001b[39mhttps://mofc.unic.ac.cy/wp-content/uploads/2023/03/Foresight-63-65.pdf\u001b[39m\u001b[39m\"\u001b[39m\n",
      "File \u001b[0;32m~/miniconda3/envs/gpt-researcher/lib/python3.11/site-packages/selenium/webdriver/safari/webdriver.py:72\u001b[0m, in \u001b[0;36mWebDriver.__init__\u001b[0;34m(self, reuse_service, keep_alive, options, service)\u001b[0m\n\u001b[1;32m     64\u001b[0m     \u001b[39mself\u001b[39m\u001b[39m.\u001b[39mservice\u001b[39m.\u001b[39mstart()\n\u001b[1;32m     66\u001b[0m executor \u001b[39m=\u001b[39m SafariRemoteConnection(\n\u001b[1;32m     67\u001b[0m     remote_server_addr\u001b[39m=\u001b[39m\u001b[39mself\u001b[39m\u001b[39m.\u001b[39mservice\u001b[39m.\u001b[39mservice_url,\n\u001b[1;32m     68\u001b[0m     keep_alive\u001b[39m=\u001b[39mkeep_alive,\n\u001b[1;32m     69\u001b[0m     ignore_proxy\u001b[39m=\u001b[39moptions\u001b[39m.\u001b[39m_ignore_local_proxy,\n\u001b[1;32m     70\u001b[0m )\n\u001b[0;32m---> 72\u001b[0m \u001b[39msuper\u001b[39;49m()\u001b[39m.\u001b[39;49m\u001b[39m__init__\u001b[39;49m(command_executor\u001b[39m=\u001b[39;49mexecutor, options\u001b[39m=\u001b[39;49moptions)\n\u001b[1;32m     74\u001b[0m \u001b[39mself\u001b[39m\u001b[39m.\u001b[39m_is_remote \u001b[39m=\u001b[39m \u001b[39mFalse\u001b[39;00m\n",
      "File \u001b[0;32m~/miniconda3/envs/gpt-researcher/lib/python3.11/site-packages/selenium/webdriver/remote/webdriver.py:205\u001b[0m, in \u001b[0;36mWebDriver.__init__\u001b[0;34m(self, command_executor, keep_alive, file_detector, options)\u001b[0m\n\u001b[1;32m    203\u001b[0m \u001b[39mself\u001b[39m\u001b[39m.\u001b[39m_authenticator_id \u001b[39m=\u001b[39m \u001b[39mNone\u001b[39;00m\n\u001b[1;32m    204\u001b[0m \u001b[39mself\u001b[39m\u001b[39m.\u001b[39mstart_client()\n\u001b[0;32m--> 205\u001b[0m \u001b[39mself\u001b[39;49m\u001b[39m.\u001b[39;49mstart_session(capabilities)\n",
      "File \u001b[0;32m~/miniconda3/envs/gpt-researcher/lib/python3.11/site-packages/selenium/webdriver/remote/webdriver.py:289\u001b[0m, in \u001b[0;36mWebDriver.start_session\u001b[0;34m(self, capabilities)\u001b[0m\n\u001b[1;32m    282\u001b[0m \u001b[39m\u001b[39m\u001b[39m\"\"\"Creates a new session with the desired capabilities.\u001b[39;00m\n\u001b[1;32m    283\u001b[0m \n\u001b[1;32m    284\u001b[0m \u001b[39m:Args:\u001b[39;00m\n\u001b[1;32m    285\u001b[0m \u001b[39m - capabilities - a capabilities dict to start the session with.\u001b[39;00m\n\u001b[1;32m    286\u001b[0m \u001b[39m\"\"\"\u001b[39;00m\n\u001b[1;32m    288\u001b[0m caps \u001b[39m=\u001b[39m _create_caps(capabilities)\n\u001b[0;32m--> 289\u001b[0m response \u001b[39m=\u001b[39m \u001b[39mself\u001b[39;49m\u001b[39m.\u001b[39;49mexecute(Command\u001b[39m.\u001b[39;49mNEW_SESSION, caps)[\u001b[39m\"\u001b[39m\u001b[39mvalue\u001b[39m\u001b[39m\"\u001b[39m]\n\u001b[1;32m    290\u001b[0m \u001b[39mself\u001b[39m\u001b[39m.\u001b[39msession_id \u001b[39m=\u001b[39m response\u001b[39m.\u001b[39mget(\u001b[39m\"\u001b[39m\u001b[39msessionId\u001b[39m\u001b[39m\"\u001b[39m)\n\u001b[1;32m    291\u001b[0m \u001b[39mself\u001b[39m\u001b[39m.\u001b[39mcaps \u001b[39m=\u001b[39m response\u001b[39m.\u001b[39mget(\u001b[39m\"\u001b[39m\u001b[39mcapabilities\u001b[39m\u001b[39m\"\u001b[39m)\n",
      "File \u001b[0;32m~/miniconda3/envs/gpt-researcher/lib/python3.11/site-packages/selenium/webdriver/remote/webdriver.py:344\u001b[0m, in \u001b[0;36mWebDriver.execute\u001b[0;34m(self, driver_command, params)\u001b[0m\n\u001b[1;32m    342\u001b[0m response \u001b[39m=\u001b[39m \u001b[39mself\u001b[39m\u001b[39m.\u001b[39mcommand_executor\u001b[39m.\u001b[39mexecute(driver_command, params)\n\u001b[1;32m    343\u001b[0m \u001b[39mif\u001b[39;00m response:\n\u001b[0;32m--> 344\u001b[0m     \u001b[39mself\u001b[39;49m\u001b[39m.\u001b[39;49merror_handler\u001b[39m.\u001b[39;49mcheck_response(response)\n\u001b[1;32m    345\u001b[0m     response[\u001b[39m\"\u001b[39m\u001b[39mvalue\u001b[39m\u001b[39m\"\u001b[39m] \u001b[39m=\u001b[39m \u001b[39mself\u001b[39m\u001b[39m.\u001b[39m_unwrap_value(response\u001b[39m.\u001b[39mget(\u001b[39m\"\u001b[39m\u001b[39mvalue\u001b[39m\u001b[39m\"\u001b[39m, \u001b[39mNone\u001b[39;00m))\n\u001b[1;32m    346\u001b[0m     \u001b[39mreturn\u001b[39;00m response\n",
      "File \u001b[0;32m~/miniconda3/envs/gpt-researcher/lib/python3.11/site-packages/selenium/webdriver/remote/errorhandler.py:229\u001b[0m, in \u001b[0;36mErrorHandler.check_response\u001b[0;34m(self, response)\u001b[0m\n\u001b[1;32m    227\u001b[0m         alert_text \u001b[39m=\u001b[39m value[\u001b[39m\"\u001b[39m\u001b[39malert\u001b[39m\u001b[39m\"\u001b[39m]\u001b[39m.\u001b[39mget(\u001b[39m\"\u001b[39m\u001b[39mtext\u001b[39m\u001b[39m\"\u001b[39m)\n\u001b[1;32m    228\u001b[0m     \u001b[39mraise\u001b[39;00m exception_class(message, screen, stacktrace, alert_text)  \u001b[39m# type: ignore[call-arg]  # mypy is not smart enough here\u001b[39;00m\n\u001b[0;32m--> 229\u001b[0m \u001b[39mraise\u001b[39;00m exception_class(message, screen, stacktrace)\n",
      "\u001b[0;31mSessionNotCreatedException\u001b[0m: Message: Could not create a session: The Safari instance is already paired with another WebDriver session.\n"
     ]
    }
   ],
   "source": [
    "from selenium.webdriver.safari.options import Options as SafariOptions\n",
    "from selenium.webdriver.chrome.options import Options as ChromeOptions\n",
    "from selenium.webdriver.firefox.options import Options as FirefoxOptions\n",
    "from selenium.webdriver.support.wait import WebDriverWait\n",
    "from selenium.webdriver.support import expected_conditions as EC\n",
    "from bs4 import BeautifulSoup\n",
    "\n",
    "\n",
    "def get_text(soup):\n",
    "    \"\"\"Get the text from the soup\n",
    "\n",
    "    Args:\n",
    "        soup (BeautifulSoup): The soup to get the text from\n",
    "\n",
    "    Returns:\n",
    "        str: The text from the soup\n",
    "    \"\"\"\n",
    "    text = \"\"\n",
    "    tags = ['h1', 'h2', 'h3', 'h4', 'h5', 'p']\n",
    "    for element in soup.find_all(tags):  # Find all the <p> elements\n",
    "        text += element.text + \"\\n\\n\"\n",
    "    return text\n",
    "\n",
    "options_available = {\n",
    "        \"chrome\": ChromeOptions,\n",
    "        \"safari\": SafariOptions,\n",
    "        \"firefox\": FirefoxOptions,\n",
    "    }\n",
    "\n",
    "selenium_web_browser = \"safari\"\n",
    "user_agent = \"Mozilla/5.0 (Macintosh; Intel Mac OS X 10_15_4) AppleWebKit/537.36 (KHTML, like Gecko) Chrome/83.0.4103.97 Safari/537.36\"\n",
    "options = options_available[selenium_web_browser]()\n",
    "options.add_argument(f\"user-agent={user_agent}\")\n",
    "options.add_argument('--headless')\n",
    "options.add_argument(\"--enable-javascript\")\n",
    "driver = webdriver.Safari(options=options)\n",
    "\n",
    "# 原始代码: https://github.com/assafelovic/gpt-researcher/blob/5c55192c05fe834a0c52ffcf585446373bc2e3bb/actions/web_scrape.py#L121\n",
    "# url = \"https://docs.litellm.ai/docs/providers/azure\"\n",
    "url = \"https://mofc.unic.ac.cy/wp-content/uploads/2023/03/Foresight-63-65.pdf\"\n",
    "driver.get(url)\n",
    "WebDriverWait(driver, 10).until(\n",
    "        EC.presence_of_element_located((By.TAG_NAME, \"body\"))\n",
    "    )\n",
    "\n",
    "# Get the HTML content directly from the browser's DOM\n",
    "page_source = driver.execute_script(\"return document.body.outerHTML;\")\n",
    "soup = BeautifulSoup(page_source, \"html.parser\")\n"
   ]
  },
  {
   "cell_type": "code",
   "execution_count": 34,
   "metadata": {},
   "outputs": [
    {
     "name": "stdout",
     "output_type": "stream",
     "text": [
      "\n"
     ]
    }
   ],
   "source": [
    "# for c in chunks:\n",
    "#     print(c)\n",
    "# with open(\"page.html\", \"w\") as f:\n",
    "#     f.write(page_source)\n",
    "\n",
    "for script in soup([\"script\", \"style\"]):\n",
    "    script.extract()\n",
    "\n",
    "print(soup.get_text())\n",
    "# texts = [node.get_text() for node in soup.find_all(\"div\")]\n",
    "# for t in texts:\n",
    "#     print(t)\n",
    "\n",
    "# text = get_text(soup)\n",
    "# print(text)\n",
    "\n",
    "# lines = (line.strip() for line in text.splitlines())\n",
    "# for line in lines:\n",
    "#     print(line)\n",
    "# chunks = (phrase.strip() for line in lines for phrase in line.split(\" \"))\n",
    "# for chunk in chunks:\n",
    "    # print(chunk)\n",
    "# texts = soup.findAll(text=True)\n",
    "# print(texts)"
   ]
  },
  {
   "cell_type": "code",
   "execution_count": null,
   "metadata": {},
   "outputs": [],
   "source": []
  }
 ],
 "metadata": {
  "kernelspec": {
   "display_name": "gpt-researcher",
   "language": "python",
   "name": "python3"
  },
  "language_info": {
   "codemirror_mode": {
    "name": "ipython",
    "version": 3
   },
   "file_extension": ".py",
   "mimetype": "text/x-python",
   "name": "python",
   "nbconvert_exporter": "python",
   "pygments_lexer": "ipython3",
   "version": "3.11.5"
  }
 },
 "nbformat": 4,
 "nbformat_minor": 2
}
