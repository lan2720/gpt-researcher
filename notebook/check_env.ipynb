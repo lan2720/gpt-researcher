{
 "cells": [
  {
   "cell_type": "code",
   "execution_count": 3,
   "metadata": {},
   "outputs": [
    {
     "data": {
      "text/plain": [
       "True"
      ]
     },
     "execution_count": 3,
     "metadata": {},
     "output_type": "execute_result"
    }
   ],
   "source": [
    "import os\n",
    "from dotenv import load_dotenv\n",
    "\n",
    "load_dotenv(verbose=True)\n",
    "# os.getenv(\"AZURE_API_KEY\")\n"
   ]
  },
  {
   "cell_type": "markdown",
   "metadata": {},
   "source": [
    "## 整个项目所有配置\n",
    "- [Config单例](https://github.com/assafelovic/gpt-researcher/blob/5c55192c05fe834a0c52ffcf585446373bc2e3bb/config/config.py#L18)\n",
    "- 浏览器: USE_WEB_BROWSER, 没有默认使用chrome\n",
    "- LLM_PROVIDER: 默认ChatOpenAI\n",
    "- FAST_LLM_MODEL: 默认gpt-3.5-turbo-16k\n",
    "- SMART_LLM_MODEL: 默认gpt-4\n",
    "- FAST_TOKEN_LIMIT: 不填则为2000\n",
    "- SMART_TOKEN_LIMIT: 不填则为4000\n",
    "- BROWSE_CHUNK_MAX_LENGTH: 浏览器chunk最大长度？不填则为8192\n",
    "- SUMMARY_TOKEN_LIMIT: 不填为700\n",
    "- TEMPERATURE: 不填为1\n",
    "\n",
    "### Azure适配新增配置项\n",
    "- AZURE_API_BASE=\n",
    "- AZURE_API_KEY=\n",
    "- API_TYPE=\"azure\"\n",
    "- API_VERSION=\"2023-07-01-preview\""
   ]
  },
  {
   "cell_type": "code",
   "execution_count": null,
   "metadata": {},
   "outputs": [],
   "source": []
  }
 ],
 "metadata": {
  "kernelspec": {
   "display_name": "gpt-researcher",
   "language": "python",
   "name": "python3"
  },
  "language_info": {
   "codemirror_mode": {
    "name": "ipython",
    "version": 3
   },
   "file_extension": ".py",
   "mimetype": "text/x-python",
   "name": "python",
   "nbconvert_exporter": "python",
   "pygments_lexer": "ipython3",
   "version": "3.11.5"
  }
 },
 "nbformat": 4,
 "nbformat_minor": 2
}
