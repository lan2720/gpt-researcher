{
 "cells": [
  {
   "cell_type": "code",
   "execution_count": 1,
   "metadata": {},
   "outputs": [
    {
     "name": "stdout",
     "output_type": "stream",
     "text": [
      "selenium_web_browser: chrome\n"
     ]
    }
   ],
   "source": [
    "import sys\n",
    "sys.path.append(\"/Users/jarvixwang/Documents/Project/gpt-researcher\")\n",
    "import json\n",
    "from agent import prompts\n",
    "from agent import llm_utils #import create_chat_completion\n",
    "\n",
    "model_names = {\"gpt4\": \"gpt-4\",\n",
    "               \"gpt-3.5\": \"gpt-35-turbo\"}"
   ]
  },
  {
   "cell_type": "code",
   "execution_count": 2,
   "metadata": {},
   "outputs": [
    {
     "data": {
      "text/plain": [
       "'Write 3 google search queries to search online that form an objective opinion from the following: \"large language models\".\\nUse the current date if needed: October 16, 2023.\\nYou must respond with a list of strings in the following format: [\"query 1\", \"query 2\", \"query 3\"].'"
      ]
     },
     "execution_count": 2,
     "metadata": {},
     "output_type": "execute_result"
    }
   ],
   "source": [
    "prompts.generate_search_queries_prompt(question=\"large language models\")"
   ]
  },
  {
   "cell_type": "markdown",
   "metadata": {},
   "source": [
    "### 以下是为了测试[llm_utils.choose_agent(task)](https://github.com/lan2720/gpt-researcher/blob/5c55192c05fe834a0c52ffcf585446373bc2e3bb/agent/llm_utils.py#L101)的功能\n",
    "- 生成agent_name和agent_role_prompt"
   ]
  },
  {
   "cell_type": "code",
   "execution_count": 3,
   "metadata": {},
   "outputs": [
    {
     "name": "stdout",
     "output_type": "stream",
     "text": [
      "agent: 👶 Baby Name Agent\n",
      "agent_role_prompt: You are an AI assistant specialized in baby names. Your goal is to provide unique, meaningful, and popular names for babies based on various criteria.\n"
     ]
    }
   ],
   "source": [
    "agent_role_prompt = prompts.auto_agent_instructions()\n",
    "question = \"generate 3 names for girl\"\n",
    "action = f\"task: {question}\"\n",
    "messages = [{\n",
    "            \"role\": \"system\",\n",
    "            \"content\": agent_role_prompt\n",
    "        }, {\n",
    "            \"role\": \"user\",\n",
    "            \"content\": action,\n",
    "        }]\n",
    "\n",
    "rsp = llm_utils.create_chat_completion(messages=messages, model=model_names[\"gpt-3.5\"], temperature=0)\n",
    "data = json.loads(rsp.strip())\n",
    "for k, v in data.items():\n",
    "    print(f\"{k}: {v}\")"
   ]
  },
  {
   "cell_type": "markdown",
   "metadata": {},
   "source": [
    "### [ResearchAgent](https://github.com/lan2720/gpt-researcher/blob/5c55192c05fe834a0c52ffcf585446373bc2e3bb/agent/research_agent.py#L25)做科研, 就2步\n",
    "- conduct_research(): 得到self.research_summary\n",
    "    - [create_search_queries()](https://github.com/lan2720/gpt-researcher/blob/5c55192c05fe834a0c52ffcf585446373bc2e3bb/agent/research_agent.py#L93): 根据当前task生成多个搜索问题, 是GPT生成的\n",
    "        - 对每个saerch_query生成该query的summary: [run_search_summary(query)](https://github.com/lan2720/gpt-researcher/blob/5c55192c05fe834a0c52ffcf585446373bc2e3bb/agent/research_agent.py#L120)\n",
    "            - responses = await self.[async_search(query)](https://github.com/lan2720/gpt-researcher/blob/5c55192c05fe834a0c52ffcf585446373bc2e3bb/agent/research_agent.py#L102): DDGS(), duckduckgo搜索\n",
    "                - 针对这个query进行搜索: [web_search(query)](https://github.com/lan2720/gpt-researcher/blob/5c55192c05fe834a0c52ffcf585446373bc2e3bb/actions/web_search.py#L7)\n",
    "                - 获取所有返回页面的urls: self.[get_new_urls([url.get(\"href\") for url in search_results])](https://github.com/lan2720/gpt-researcher/blob/5c55192c05fe834a0c52ffcf585446373bc2e3bb/agent/research_agent.py#L61)\n",
    "                - 浏览每个网页: [async_browse(url, query, self.websocket)](https://github.com/lan2720/gpt-researcher/blob/5c55192c05fe834a0c52ffcf585446373bc2e3bb/actions/web_scrape.py#L36), 实际[async_browse()实现](https://github.com/lan2720/gpt-researcher/blob/5c55192c05fe834a0c52ffcf585446373bc2e3bb/actions/web_scrape.py#L36)\n",
    "                    - 获取当前url页面的文本: driver, text = await loop.run_in_executor(executor, scrape_text_with_selenium, url)\n",
    "                    - 给浏览器driver增加header: await loop.run_in_executor(executor, add_header, driver)\n",
    "                    - 对文本总结: [summary_text](https://github.com/lan2720/gpt-researcher/blob/5c55192c05fe834a0c52ffcf585446373bc2e3bb/actions/web_scrape.py#L57C9-L57C21) = await loop.run_in_executor(executor, summary.summarize_text, url, text, question, driver), 真正的[summary_text实现在processing/text.py内](https://github.com/lan2720/gpt-researcher/blob/5c55192c05fe834a0c52ffcf585446373bc2e3bb/processing/text.py#L46)\n",
    "                    - 返回str: f\"Information gathered from url {url}: {summary_text}\"\n",
    "        - 全部拼接起来作为self.research_summary\n",
    "- 根据report_type的不同，写报告: write_report(report_type, websocket)"
   ]
  },
  {
   "cell_type": "markdown",
   "metadata": {},
   "source": [
    "### 如何产生websocket?\n",
    "- [code](https://github.com/lan2720/gpt-researcher/blob/5c55192c05fe834a0c52ffcf585446373bc2e3bb/main.py#L39C1-L41C37)\n",
    "```\n",
    "manager = WebSocketManager()\n",
    "\n",
    "@app.websocket(\"/ws\")\n",
    "async def websocket_endpoint(websocket: WebSocket):\n",
    "    await manager.connect(websocket)\n",
    "```"
   ]
  },
  {
   "cell_type": "markdown",
   "metadata": {},
   "source": []
  }
 ],
 "metadata": {
  "kernelspec": {
   "display_name": "gpt-researcher",
   "language": "python",
   "name": "python3"
  },
  "language_info": {
   "codemirror_mode": {
    "name": "ipython",
    "version": 3
   },
   "file_extension": ".py",
   "mimetype": "text/x-python",
   "name": "python",
   "nbconvert_exporter": "python",
   "pygments_lexer": "ipython3",
   "version": "3.11.5"
  }
 },
 "nbformat": 4,
 "nbformat_minor": 2
}
